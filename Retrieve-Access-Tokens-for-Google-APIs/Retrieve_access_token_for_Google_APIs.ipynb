{
  "nbformat": 4,
  "nbformat_minor": 0,
  "metadata": {
    "colab": {
      "name": "Retrieve access token for Google Drive API",
      "provenance": [],
      "collapsed_sections": []
    },
    "kernelspec": {
      "name": "python3",
      "display_name": "Python 3"
    }
  },
  "cells": [
    {
      "cell_type": "markdown",
      "metadata": {
        "id": "view-in-github",
        "colab_type": "text"
      },
      "source": [
        "<a href=\"https://colab.research.google.com/github/sawankumar/retrieve-access-tokens-for-Google-APIs/blob/master/Retrieve_access_token_for_Google_APIs.ipynb\" target=\"_parent\"><img src=\"https://colab.research.google.com/assets/colab-badge.svg\" alt=\"Open In Colab\"/></a>"
      ]
    },
    {
      "cell_type": "markdown",
      "metadata": {
        "id": "OVtz00tz-guB",
        "colab_type": "text"
      },
      "source": [
        "# **<font color='blue'> Retrieve Access Tokens for Google APIS - Created by [SawanKumar](https://github.com/sawankumar) </font>**"
      ]
    },
    {
      "cell_type": "code",
      "metadata": {
        "id": "RzSVL-JSfJAH",
        "colab_type": "code",
        "cellView": "form",
        "colab": {}
      },
      "source": [
        "#@markdown <br><center><img src='https://upload.wikimedia.org/wikipedia/commons/thumb/d/da/Google_Drive_logo.png/600px-Google_Drive_logo.png' height=\"50\" alt=\"Gdrive-logo\"/></center>\n",
        "#@markdown <center><h3>Retrieve access token for Google Drive API</h3></center><br>\n",
        "client_id=\"\" #@param {type:\"string\"}\n",
        "client_secret=\"\" #@param {type:\"string\"}\n",
        "\n",
        "import subprocess\n",
        "from google.colab import output\n",
        "\n",
        "def formatx(i, key, j, k):\n",
        "    val=response[i].split(\": \")[1][1-j:-2+j+k]\n",
        "    return key+\": \"+val\n",
        "\n",
        "print(\"Go to this URL in a browser:: https://accounts.google.com/o/oauth2/auth?client_id={}&redirect_uri=urn:ietf:wg:oauth:2.0:oob&scope=https://www.googleapis.com/auth/drive&response_type=code\".format(client_id))\n",
        "auth_code=input(\"Enter your authorization code: \")\n",
        "output.clear()\n",
        "response = subprocess.check_output(\"curl -d client_id={} -d client_secret={} -d grant_type=authorization_code -d redirect_uri=urn:ietf:wg:oauth:2.0:oob -d code={} https://accounts.google.com/o/oauth2/token\".format(client_id, client_secret, auth_code), shell=True).decode().split(\"\\n\")[1:6]\n",
        "access_token, expires_in, refresh_token, scope, token_type = formatx(0, \"access_token\", 0, 0), formatx(1, \"expires_in\", 1, 0), formatx(2, \"refresh_token\", 0, 0), formatx(3, \"scope\", 0, 0), formatx(4, \"token_type\", 0, 1)\n",
        "\n",
        "print(access_token); print(\"··········\")\n",
        "print(expires_in); print(\"··········\")\n",
        "print(refresh_token); print(\"··········\")\n",
        "print(scope); print(\"··········\")\n",
        "print(token_type); print(\"··········\")\n",
        "print(\"in_json_form:\", \"{\"+\", \".join(\"\".join(\"\".join(response).split(\"  \")).split(\",\"))+\"}\")"
      ],
      "execution_count": null,
      "outputs": []
    },
    {
      "cell_type": "markdown",
      "metadata": {
        "id": "MZH_MUbv-oid",
        "colab_type": "text"
      },
      "source": [
        "# 📚 Follow me on GitHub for more: [@sawankumar](https://github.com/sawankumar)\n",
        "# 📦 Repo: [Github](https://github.com/sawankumar/Notebooks/Retrieve-Access-Tokens-for-Google-APIs)"
      ]
    }
  ]
}
