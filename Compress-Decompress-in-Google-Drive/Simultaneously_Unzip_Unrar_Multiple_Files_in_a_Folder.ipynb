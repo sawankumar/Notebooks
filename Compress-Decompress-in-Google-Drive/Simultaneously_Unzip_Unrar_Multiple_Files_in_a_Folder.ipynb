{
  "nbformat": 4,
  "nbformat_minor": 0,
  "metadata": {
    "colab": {
      "name": "Simultaneously Unzip Multiple Files in a Folder",
      "provenance": [],
      "collapsed_sections": []
    },
    "kernelspec": {
      "name": "python3",
      "display_name": "Python 3"
    }
  },
  "cells": [
    {
      "cell_type": "markdown",
      "metadata": {
        "id": "yMowK8EHz2nW",
        "colab_type": "text"
      },
      "source": [
        "# **<font color='blue'> Simultaneously Unzip/Unrar Multiple Files in a Specific Folder - Created by [SawanKumar](https://github.com/sawankumar) </font>**\n"
      ]
    },
    {
      "cell_type": "code",
      "metadata": {
        "id": "9CTmnZqv0HNA",
        "colab_type": "code",
        "cellView": "form",
        "colab": {}
      },
      "source": [
        "#@markdown #__Mount GDrive to /content/drive__\n",
        "MODE = \"MOUNT\" #@param [\"MOUNT\", \"UNMOUNT\"]\n",
        "#Mount your Gdrive! \n",
        "from google.colab import drive\n",
        "drive.mount._DEBUG = False\n",
        "if MODE == \"MOUNT\":\n",
        "  drive.mount('/content/drive', force_remount=True)\n",
        "elif MODE == \"UNMOUNT\":\n",
        "  try:\n",
        "    drive.flush_and_unmount()\n",
        "  except ValueError:\n",
        "    pass\n",
        "  get_ipython().system_raw(\"rm -rf /root/.config/Google/DriveFS\")"
      ],
      "execution_count": null,
      "outputs": []
    },
    {
      "cell_type": "code",
      "metadata": {
        "id": "o9qOfIvZpGZB",
        "colab_type": "code",
        "colab": {},
        "cellView": "form"
      },
      "source": [
        "#@markdown #__Simultaneously Unzip Multiple Files in a Folder__\n",
        "#@markdown *   input_path - Path to the folder which contains all zip files you want to Unzip - Only include files you want to unzip in this folder\n",
        "#@markdown *   output_path - Path to the folder where you want to extract zip files in Google Drive\n",
        "#@markdown *   Just copy the paths from the files-tab and paste them here\n",
        "import os,glob\n",
        "input_path=\"/content/drive/path/input_folder\" #@param {type:\"string\"}\n",
        "output_path=\"/content/drive/path/output_folder\" #@param {type:\"string\"}\n",
        "filess=[os.path.basename(x) for x in glob.glob(input_path + \"/\" + \"*.zip\")]\n",
        "for i in range(len(filess)):\n",
        "  a=input_path + \"/\" + filess[i]\n",
        "  b=output_path + \"/\" + filess[i][:-4]\n",
        "  !unzip \"$a\" -d \"$b\""
      ],
      "execution_count": null,
      "outputs": []
    },
    {
      "cell_type": "code",
      "metadata": {
        "id": "5eeE3B_WzoPM",
        "colab_type": "code",
        "cellView": "form",
        "colab": {}
      },
      "source": [
        "#@markdown #__Simultaneously Unrar Multiple Files in a Folder__\n",
        "#@markdown *   input_path - Path to the folder which contains all rar files you want to Unzip - Only include files you want to unrar in this folder\n",
        "#@markdown *   output_path - Path to the folder where you want to extract rar files in Google Drive\n",
        "#@markdown *   Just copy the paths from the files-tab and paste them here\n",
        "import os,glob\n",
        "input_path=\"/content/drive/path/input_folder\" #@param {type:\"string\"}\n",
        "output_path=\"/content/drive/path/output_folder\" #@param {type:\"string\"}\n",
        "filess=[os.path.basename(x) for x in glob.glob(input_path + \"/\" + \"*.rar\")]\n",
        "for i in range(len(filess)):\n",
        "  a=input_path + \"/\" + filess[i]\n",
        "  b=output_path + \"/\" + filess[i][:-4]\n",
        "  !unzip \"$a\" -d \"$b\""
      ],
      "execution_count": null,
      "outputs": []
    },
    {
      "cell_type": "markdown",
      "metadata": {
        "id": "HlOcJAIU0EVz",
        "colab_type": "text"
      },
      "source": [
        "# 📚 Follow me on GitHub for more: [@sawankumar](https://github.com/sawankumar)\n",
        "# 📦 Repo: [Github](https://github.com/sawankumar/Notebooks/Compress-Decompress-in-Google-Drive)"
      ]
    }
  ]
}
