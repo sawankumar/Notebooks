{
  "nbformat": 4,
  "nbformat_minor": 0,
  "metadata": {
    "colab": {
      "name": "extract multipart zip files.ipynb",
      "provenance": [],
      "collapsed_sections": []
    },
    "kernelspec": {
      "name": "python3",
      "display_name": "Python 3"
    }
  },
  "cells": [
    {
      "cell_type": "code",
      "metadata": {
        "id": "IquVhuVYTNYl",
        "colab_type": "code",
        "colab": {}
      },
      "source": [
        "from google.colab import drive\n",
        "drive.mount('/content/drive')"
      ],
      "execution_count": null,
      "outputs": []
    },
    {
      "cell_type": "code",
      "metadata": {
        "id": "s06cm9jXV76l",
        "colab_type": "code",
        "colab": {}
      },
      "source": [
        "#generate a single zip file from the parts of the multipart zip file\n",
        "       #path1:path of the multipart zip file     #Path2:output path for the generated zip file (multipart zip to single zip file)\n",
        "!zip -s- \"/content/drive/path/multipart.zip\" -O \"/content/drive/My Drive/test/Roxtar/out_full.zip\""
      ],
      "execution_count": null,
      "outputs": []
    },
    {
      "cell_type": "code",
      "metadata": {
        "id": "G6hMFUnHabU3",
        "colab_type": "code",
        "colab": {}
      },
      "source": [
        "#extract generated zip file\n",
        "        #path1:path of the generated zip file  #path2:path of the output directory\n",
        "!unzip \"/content/drive/path/out_full.zip\" -d \"/content/drive/path/output/\""
      ],
      "execution_count": null,
      "outputs": []
    }
  ]
}