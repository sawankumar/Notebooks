{
  "nbformat": 4,
  "nbformat_minor": 0,
  "metadata": {
    "colab": {
      "name": "Remote Uploader",
      "provenance": [],
      "collapsed_sections": [
        "GpdhL-vj-4Md"
      ],
      "toc_visible": true
    },
    "kernelspec": {
      "name": "python3",
      "display_name": "Python 3"
    }
  },
  "cells": [
    {
      "cell_type": "markdown",
      "metadata": {
        "id": "view-in-github",
        "colab_type": "text"
      },
      "source": [
        "<a href=\"https://colab.research.google.com/github/sawankumar/Remote-Uploader/blob/main/Remote_Uploader.ipynb\" target=\"_parent\"><img src=\"https://colab.research.google.com/assets/colab-badge.svg\" alt=\"Open In Colab\"/></a>"
      ]
    },
    {
      "cell_type": "markdown",
      "metadata": {
        "id": "CPxyowjMCroW"
      },
      "source": [
        "# __Remote Uploader__\n",
        "\n",
        "__Supported filehosts:__\n",
        "*   MediaFire\n",
        "*   Zippyshare\n",
        "*   anonfiles\n",
        "*   BayFiles\n",
        "\n"
      ]
    },
    {
      "cell_type": "code",
      "metadata": {
        "id": "19tR-lZktRf9",
        "cellView": "form"
      },
      "source": [
        "#@title #__👈 Run this cell to install requirements__##\n",
        "!echo -n \"Installing bayfiles-cli...\" && npm i -g bayfiles-cli &> /dev/null && echo \" Done!\"\n",
        "!echo -n \"Installing anonfile-cli...\" && mkdir -p sample_data/anonfile-upload &> /dev/null && git clone https://github.com/awersli99/anonfile-upload.git sample_data/anonfile-upload &> /dev/null && cd sample_data/anonfile-upload &> /dev/null && pip install -r requirements.txt &> /dev/null && echo \" Done!\"\n",
        "!echo -n \"Installing zippyshare-ul...\" && mkdir -p sample_data/zs-ul &> /dev/null && git clone https://github.com/Sorrow446/ZS-UL.git sample_data/zs-ul &> /dev/null && cd sample_data/zs-ul &> /dev/null && pip install -r requirements.txt &> /dev/null && echo \" Done!\"\n",
        "!echo -n \"Installing zippyshare-dl...\" && mkdir -p sample_data/zs-dl &> /dev/null && git clone https://github.com/Sorrow446/ZS-DL.git sample_data/zs-dl &> /dev/null && cd sample_data/zs-dl &> /dev/null && pip install -r requirements.txt &> /dev/null && echo \" Done!\"\n",
        "!echo -n \"Installing mediafire-ul...\" && mkdir -p sample_data/mediafire-ul &> /dev/null && git clone https://github.com/JayBrown/mfcmd.py---MediaFire-uploader.git sample_data/mediafire-ul &> /dev/null && pip install pymediafire &> /dev/null && pip install mediafire &> /dev/null && echo \" Done!\""
      ],
      "execution_count": null,
      "outputs": []
    },
    {
      "cell_type": "markdown",
      "metadata": {
        "id": "GpdhL-vj-4Md"
      },
      "source": [
        "#__Mount cloud storage services with Rclone__\n"
      ]
    },
    {
      "cell_type": "code",
      "metadata": {
        "id": "zpRWOgGZDFNs",
        "cellView": "form"
      },
      "source": [
        "#@markdown <h3>📝 Note: Run this before using Rclone.</h3>\n",
        "#@markdown <h4>📝 Upload an rclone profile</4>\n",
        "Setup_Time_Zone = False \n",
        "\n",
        "import os; from google.colab import files; from IPython.display import HTML, clear_output\n",
        "\n",
        "def upload_conf():\n",
        "  try:\n",
        "    display(HTML(\"<h2 style=\\\"font-family:Trebuchet MS;color:#446785;\\\">Please upload the config file of rclone (rclone.conf) from your computer.</h2><br>\"))\n",
        "    UploadConfig = files.upload().keys()\n",
        "    clear_output(wait=True)\n",
        "    if len(UploadConfig) == 0:\n",
        "      return display(HTML(\"<center><h2 style=\\\"font-family:Trebuchet MS;color:#ce2121;\\\">File upload has been cancelled during upload file.</h2><br></center>\"))\n",
        "    elif len(UploadConfig) == 1:\n",
        "      for fn in UploadConfig:\n",
        "        if os.path.isfile(\"/content/\" + fn) == True:\n",
        "          os.environ[\"rclone_conf\"] = fn\n",
        "          !mv -f \"$rclone_conf\" /root/.rclone.conf\n",
        "          !chmod 666 /root/.rclone.conf\n",
        "          if Setup_Time_Zone == True:\n",
        "            !sudo dpkg-reconfigure tzdata\n",
        "            clear_output(wait=True)\n",
        "          if os.path.isfile(\"/usr/bin/rclone\") == True:\n",
        "            return display(HTML(\"<center><h2 style=\\\"font-family:Trebuchet MS;color:#00b24c;\\\">Config has been changed.</h2><br></center>\"))\n",
        "          else:\n",
        "            !rm -rf /content/sample_data/\n",
        "            !curl -s https://rclone.org/install.sh | sudo bash\n",
        "            clear_output(wait=True)\n",
        "            return display(HTML(\"<center><h2 style=\\\"font-family:Trebuchet MS;color:#446785;\\\">Installation has been successfully completed.</h2><br></center>\"))\n",
        "        else:\n",
        "          return display(HTML(\"<center><h2 style=\\\"font-family:Trebuchet MS;color:#ce2121;\\\">File upload has been failed during upload file.</h2><br></center>\"))\n",
        "    else:\n",
        "      for fn in UploadConfig:\n",
        "        os.environ[\"rclone_conf\"] = fn\n",
        "        !rm -f \"$rclone_conf\"\n",
        "      return display(HTML(\"<center><h2 style=\\\"font-family:Trebuchet MS;color:#ce2121;\\\">Please uploading only one file at a time.</h2><br></center>\"))\n",
        "  except:\n",
        "    clear_output(wait=True)\n",
        "    return display(HTML(\"<center><h2 style=\\\"font-family:Trebuchet MS;color:#ce2121;\\\">Error occurred during upload file.</h2><br></center>\"))\n",
        "\n",
        "upload_conf()"
      ],
      "execution_count": null,
      "outputs": []
    },
    {
      "cell_type": "code",
      "metadata": {
        "id": "6hwyeLqWDGi_",
        "cellView": "form"
      },
      "source": [
        "# ============================= FORM ============================= #\n",
        "#@markdown <h3>📝 Run this to mount the drive with rclone</h3>\n",
        "rclone_config_name = \"mydrive\" #@param {type:\"string\"}\n",
        "local_mount_location = \"/content/udrive/\" #@param {type:\"string\"}\n",
        "# ============================= FORM ============================= #\n",
        "import time\n",
        "import os\n",
        "\n",
        "# clear nohup\n",
        "open(\"nohup.out\", 'w').close()\n",
        "\n",
        "\n",
        "# unmount first\n",
        "\n",
        "!fusermount -u $local_mount_location 2>/dev/null\n",
        "\n",
        "\n",
        "# mount without waiting for the command to complete\n",
        "!mkdir $local_mount_location 2>/dev/null\n",
        "!nohup rclone mount $rclone_config_name: $local_mount_location --buffer-size 96M & \n",
        "  \n",
        "\n",
        "\n",
        "# Show the output that was written to nohup\n",
        "time.sleep(3)\n",
        "f = open(r\"nohup.out\", \"r\")\n",
        "nohupText = f.read()\n",
        "f.close()\n",
        "\n",
        "\n",
        "dirs = os.listdir(local_mount_location)\n",
        "\n",
        "if len(dirs) > 0:\n",
        "  clear_output(wait=True)\n",
        "  print(\"Succeeded. \", str(len(dirs)), \"dirs found at\", local_mount_location)\n",
        "\n",
        "else:\n",
        "  print(\"\\n\\nNot succeeded. No files or directories in mounted location. \\nCheck your config name and content. If the rclone command was not found, run the cell above.\\n\\n\")\n",
        "  print(\"log:\\n\", nohupText)"
      ],
      "execution_count": null,
      "outputs": []
    },
    {
      "cell_type": "markdown",
      "metadata": {
        "id": "JI5_YQ9AAInP"
      },
      "source": [
        "# __Download/Upload__"
      ]
    },
    {
      "cell_type": "code",
      "metadata": {
        "id": "W536P3B3ALL4",
        "cellView": "form"
      },
      "source": [
        "#@title #__⬇️ Download from filehosts to cloud storage services__#\n",
        "#@markdown __Supported filehosts:__\n",
        "#@markdown *   MediaFire (https://download2280.mediafire.com/xxx...)\n",
        "#@markdown *   Zippyshare (https://www5.zippyshare.com/v/xxx...)\n",
        "#@markdown *   anonfiles (https://anonfiles.com/xxx...)\n",
        "#@markdown *   BayFiles (https://bayfiles.com/xxx...)\n",
        "URL = \"\" #@param {type:\"string\"}\n",
        "Download_Destination = \"\" #@param {type:\"string\"}\n",
        "url, downdir = URL, Download_Destination\n",
        "\n",
        "def get_file_info(url):\n",
        "  splited = url.split(\"/\")\n",
        "  filename=splited[-1]\n",
        "  splitedfile = filename.split(\"_\")\n",
        "  splitedfile2=\"_\".join(splitedfile[0:-1])\n",
        "  modfilename=splitedfile2+\".\"+splitedfile[-1]\n",
        "  return filename, modfilename\n",
        "\n",
        "if \"zippyshare\" in url:\n",
        "  !cd sample_data/zs-dl && python3 zs-dl.py -u $url -o $downdir > /content/sample_data/output.txt\n",
        "  !tail -n 2 sample_data/output.txt\n",
        "elif \"mediafire\" in url:\n",
        "  !wget $url -P $downdir\n",
        "elif \"anonfiles\" or \"bayfiles\" in url:\n",
        "  filename, modfilename = get_file_info(url)\n",
        "  !bayfilesdownload $url -o $downdir\n",
        "  !echo -n \"Please correct the file extention on your own: file_txt -> file.txt\"\n",
        "else:\n",
        "  print(\"Error: Unsupported filehost\")"
      ],
      "execution_count": null,
      "outputs": []
    },
    {
      "cell_type": "code",
      "metadata": {
        "id": "XkzrDIs_CMyO",
        "cellView": "form"
      },
      "source": [
        "#@title #__⬆️ Upload to filehosts from cloud storage services__#\n",
        "#@markdown __Successfully uploaded max file size:__\n",
        "#@markdown *   anonfiles (1950MB)\n",
        "#@markdown *   Zippyshare (500MB)\n",
        "#@markdown *   BayFiles (99MB)\n",
        "FileHost = \"anonfiles\" #@param [\"Zippyshare\", \"anonfiles\", \"BayFiles\"]\n",
        "File_Path = \"\" #@param {type:\"string\"}\n",
        "filehost, infile = FileHost, File_Path\n",
        "\n",
        "def get_file_info(filepath):\n",
        "  splited = filepath.split(\"/\")\n",
        "  filename=splited[-1]\n",
        "  pathname=\"/\".join(splited[0:-1])\n",
        "  return filename, pathname\n",
        "\n",
        "if filehost == \"Zippyshare\":\n",
        "  filename, pathname = get_file_info(infile)\n",
        "  print(\"Uploading\", filename+\"...\")\n",
        "  !cd sample_data/zs-ul && python3 zs-ul.py -f \"$infile\" #> /content/sample_data/output.txt\n",
        "  #!tail -n 1 sample_data/output.txt\n",
        "if filehost == \"anonfiles\":\n",
        "  filename, pathname = get_file_info(infile)\n",
        "  print(\"Uploading\", filename+\"...\")\n",
        "  !cd sample_data/anonfile-upload && python3 upload.py \"$infile\" #> /content/sample_data/output.txt\n",
        "  #!tail -n 2 sample_data/output.txt\n",
        "if filehost == \"BayFiles\":\n",
        "  filename, pathname = get_file_info(infile)\n",
        "  print(filename, pathname)\n",
        "  print(\"Uploading\", filename+\"...\")\n",
        "  !cd \"$pathname\" && bayfilesupload \"$filename\" #> /content/sample_data/output.txt\n",
        "  #!tail -n 1 sample_data/output.txt"
      ],
      "execution_count": null,
      "outputs": []
    },
    {
      "cell_type": "code",
      "metadata": {
        "id": "pEd3w6BGmnjX",
        "cellView": "form"
      },
      "source": [
        "#@title #__⬆️ MediaFire Uploader__#\n",
        "#@markdown The MediaFire API is pretty buggy, and you might receive an error, because the server hasn't finished calculating the file's checksum yet; in that case, wait a couple of seconds (depending on the filesize) and repeat the command: it will not upload, but instead detect the already uploaded file and return the download URL.\n",
        "Email_Address = \"\" #@param {type:\"string\"}\n",
        "Password = \"\" #@param {type:\"string\"}\n",
        "File_path = \"\" #@param {type:\"string\"}\n",
        "mfemail, mfpassword = Email_Address, Password\n",
        "\n",
        "def get_file_info(filepath):\n",
        "  splited = filepath.split(\"/\")\n",
        "  filename=splited[-1]\n",
        "  pathname=\"/\".join(splited[0:-1])\n",
        "  return filename, pathname\n",
        "\n",
        "filename, pathname = get_file_info(File_path)\n",
        "print(\"Uploading\", filename+\"...\")\n",
        "!cd /content/sample_data/mediafire-ul && python3 mfcmd.py -e $mfemail -p $mfpassword -f $File_path 2>/dev/null\n",
        "print(\"Done!\")"
      ],
      "execution_count": null,
      "outputs": []
    },
    {
      "cell_type": "markdown",
      "metadata": {
        "id": "TwZ21fTXCEGi"
      },
      "source": [
        "### 📚 Follow me on GitHub for more: [@sawankumar](https://github.com/sawankumar)\n",
        "##### 📦 Repo: [Github](https://github.com/sawankumar/Notebooks/Remote-Uploader)"
      ]
    }
  ]
}
